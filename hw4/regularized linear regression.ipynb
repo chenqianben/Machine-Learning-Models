{
 "cells": [
  {
   "cell_type": "code",
   "execution_count": 1,
   "metadata": {},
   "outputs": [],
   "source": [
    "import numpy as np"
   ]
  },
  {
   "cell_type": "code",
   "execution_count": 57,
   "metadata": {},
   "outputs": [
    {
     "name": "stdout",
     "output_type": "stream",
     "text": [
      "[[-0.93238149]\n",
      " [ 1.04618645]\n",
      " [ 1.046171  ]]\n",
      "[0.05]\n",
      "[0.045]\n"
     ]
    }
   ],
   "source": [
    "class regular_linear_regression:\n",
    "    def __init__(self,train_size,test_size,lam):\n",
    "        self.train_size=train_size\n",
    "        self.test_size=test_size\n",
    "        self.lam=lam\n",
    "        \n",
    "    def read_train_set(self):\n",
    "        raw_train=open(\"hw4_train.dat\")\n",
    "        X=np.zeros((self.train_size,3))\n",
    "        Y=np.zeros((self.train_size,1))\n",
    "        i=0\n",
    "        for line in raw_train:\n",
    "            X[i,0]=1\n",
    "            X[i,1]=line.split(\" \")[0]\n",
    "            X[i,2]=line.split(\" \")[1]\n",
    "            Y[i,0]=line.split(\" \")[2].strip()\n",
    "            i+=1\n",
    "        return X,Y\n",
    "    \n",
    "    def read_test_set(self):\n",
    "        raw_test=open(\"hw4_test.dat\")\n",
    "        X=np.zeros((self.test_size,3))\n",
    "        Y=np.zeros((self.test_size,1))\n",
    "        i=0\n",
    "        for line in raw_test:\n",
    "            X[i,0]=1\n",
    "            X[i,1]=line.split(\" \")[0]\n",
    "            X[i,2]=line.split(\" \")[1]\n",
    "            Y[i,0]=line.split(\" \")[2].strip()\n",
    "            i+=1\n",
    "        return X,Y\n",
    "    \n",
    "    def get_w(self,X,Y):\n",
    "        a=np.eye(3)\n",
    "        a[0,0]=0               #注意，这个最好加上，尽管在台大教程里没说要加上，加上之后误差更小\n",
    "        return np.linalg.inv(np.dot(X.T,X)+self.lam*a).dot(X.T).dot(Y)\n",
    "    \n",
    "    def error(self,X,Y,w):\n",
    "        Y_cal=np.dot(X,w)\n",
    "        sum_error=sum(np.sign(Y_cal)!=Y)\n",
    "        return sum_error/np.size(Y)\n",
    "\n",
    "\n",
    "#13\n",
    "if __name__ == '__main__':\n",
    "    lin_model=regular_linear_regression(200,1000,10)\n",
    "    X_train,Y_train=lin_model.read_train_set()\n",
    "    X_test,Y_test=lin_model.read_test_set()\n",
    "    w=lin_model.get_w(X_train,Y_train)\n",
    "    Ein=lin_model.error(X_train,Y_train,w)\n",
    "    Eout=lin_model.error(X_test,Y_test,w)\n",
    "    print(w)\n",
    "    print(Ein)\n",
    "    print(Eout)\n",
    "    \n",
    "        \n",
    "        "
   ]
  },
  {
   "cell_type": "code",
   "execution_count": 66,
   "metadata": {},
   "outputs": [
    {
     "name": "stdout",
     "output_type": "stream",
     "text": [
      "1e-08 [0.015] [0.02]\n"
     ]
    }
   ],
   "source": [
    "#14     用Ein最小来选择lam\n",
    "Ein_min=10\n",
    "lam_best=0\n",
    "Eout_corres=0\n",
    "for a in range(-10,3):\n",
    "    lin_model=regular_linear_regression(200,1000,pow(10,a))\n",
    "    X_train,Y_train=lin_model.read_train_set()\n",
    "    w=lin_model.get_w(X_train,Y_train)\n",
    "    Ein=lin_model.error(X_train,Y_train,w)\n",
    "    Eout=lin_model.error(X_test,Y_test,w)\n",
    "    if Ein<=Ein_min:\n",
    "        Ein_min=Ein\n",
    "        lam_best=pow(10,a)\n",
    "        Eout_corres=Eout\n",
    "print(lam_best,Ein_min,Eout_corres)"
   ]
  },
  {
   "cell_type": "code",
   "execution_count": 67,
   "metadata": {},
   "outputs": [
    {
     "name": "stdout",
     "output_type": "stream",
     "text": [
      "1e-07 [0.03] [0.015]\n"
     ]
    }
   ],
   "source": [
    "#15       用Eout最小来选择lam\n",
    "Eout_min=10\n",
    "lam_best=0\n",
    "Ein_corres=0\n",
    "for a in range(-10,3):\n",
    "    lin_model=regular_linear_regression(200,1000,pow(10,a))\n",
    "    X_train,Y_train=lin_model.read_train_set()\n",
    "    w=lin_model.get_w(X_train,Y_train)\n",
    "    Ein=lin_model.error(X_train,Y_train,w)\n",
    "    Eout=lin_model.error(X_test,Y_test,w)\n",
    "    if Eout<=Eout_min:\n",
    "        Ein_corres=Ein\n",
    "        lam_best=pow(10,a)\n",
    "        Eout_min=Eout\n",
    "print(lam_best,Ein_corres,Eout_min)"
   ]
  },
  {
   "cell_type": "code",
   "execution_count": 70,
   "metadata": {},
   "outputs": [
    {
     "name": "stdout",
     "output_type": "stream",
     "text": [
      "1e-08 [0.] [0.05] [0.025]\n"
     ]
    }
   ],
   "source": [
    "#16        训练整集分成了训练集和验证集，用训练集误差最小来选择lam\n",
    "Etrain_min=10\n",
    "lam_best=0\n",
    "Eval_corres=0\n",
    "Eout_corres=0\n",
    "for a in range(-10,3):\n",
    "    lin_model=regular_linear_regression(200,1000,pow(10,a))\n",
    "    X_train,Y_train=lin_model.read_train_set()\n",
    "    w=lin_model.get_w(X_train[:120,:],Y_train[:120,:])\n",
    "    Etrain=lin_model.error(X_train[:120,:],Y_train[:120,:],w)\n",
    "    Eval=lin_model.error(X_train[120:,:],Y_train[120:,:],w)\n",
    "    Eout=lin_model.error(X_test,Y_test,w)\n",
    "    if Etrain<=Etrain_min:\n",
    "        Etrain_min=Etrain\n",
    "        lam_best=pow(10,a)\n",
    "        Eval_corres=Eval\n",
    "        Eout_corres=Eout\n",
    "print(lam_best,Etrain_min,Eval_corres,Eout_corres)"
   ]
  },
  {
   "cell_type": "code",
   "execution_count": 72,
   "metadata": {},
   "outputs": [
    {
     "name": "stdout",
     "output_type": "stream",
     "text": [
      "1 [0.03333333] [0.0375] [0.028]\n"
     ]
    }
   ],
   "source": [
    "#17       训练整集分成了训练集和验证集，用验证集误差最小来选择lam\n",
    "Etrain_corres=0\n",
    "lam_best=0\n",
    "Eval_min=10\n",
    "Eout_corres=0\n",
    "for a in range(-10,3):\n",
    "    lin_model=regular_linear_regression(200,1000,pow(10,a))\n",
    "    X_train,Y_train=lin_model.read_train_set()\n",
    "    w=lin_model.get_w(X_train[:120,:],Y_train[:120,:])\n",
    "    Etrain=lin_model.error(X_train[:120,:],Y_train[:120,:],w)\n",
    "    Eval=lin_model.error(X_train[120:,:],Y_train[120:,:],w)\n",
    "    Eout=lin_model.error(X_test,Y_test,w)\n",
    "    if Eval<=Eval_min:\n",
    "        Eval_min=Eval\n",
    "        lam_best=pow(10,a)\n",
    "        Etrain_corres=Etrain\n",
    "        Eout_corres=Eout\n",
    "print(lam_best,Etrain_corres,Eval_min,Eout_corres)"
   ]
  },
  {
   "cell_type": "code",
   "execution_count": 74,
   "metadata": {},
   "outputs": [
    {
     "name": "stdout",
     "output_type": "stream",
     "text": [
      "[0.035] [0.02]\n"
     ]
    }
   ],
   "source": [
    "#18  利用17的lambda\n",
    "lam=1\n",
    "lin_model=regular_linear_regression(200,1000,1)\n",
    "X_train,Y_train=lin_model.read_train_set()\n",
    "w=lin_model.get_w(X_train,Y_train)\n",
    "Ein=lin_model.error(X_train,Y_train,w)\n",
    "Eout=lin_model.error(X_test,Y_test,w)\n",
    "print(Ein,Eout)"
   ]
  },
  {
   "cell_type": "code",
   "execution_count": 91,
   "metadata": {},
   "outputs": [
    {
     "name": "stdout",
     "output_type": "stream",
     "text": [
      "1e-08 [0.03]\n"
     ]
    }
   ],
   "source": [
    "#19\n",
    "fold=40       #K-fold交叉验证\n",
    "Eval_min=10\n",
    "lam_best=0\n",
    "for a in range(-10,3):\n",
    "    lin_model=regular_linear_regression(200,1000,pow(10,a))\n",
    "    X_train,Y_train=lin_model.read_train_set()\n",
    "    Eval_tot=0\n",
    "    for i in range(5):\n",
    "        w=lin_model.get_w(np.concatenate((X_train[(i+1)*40:200,:],X_train[0:i*40,:])),np.concatenate((Y_train[(i+1)*40:200,:],Y_train[0:i*40,:])))\n",
    "        Eval=lin_model.error(X_train[i*40:(i+1)*40,:],Y_train[i*40:(i+1)*40,:],w)\n",
    "        Eval_tot=Eval_tot+Eval\n",
    "    Eval_avg=Eval_tot/5\n",
    "    if(Eval_avg<Eval_min):\n",
    "        lam_best=pow(10,a)\n",
    "        Eval_min=Eval_avg\n",
    "print(lam_best,Eval_min)"
   ]
  },
  {
   "cell_type": "code",
   "execution_count": 93,
   "metadata": {},
   "outputs": [
    {
     "name": "stdout",
     "output_type": "stream",
     "text": [
      "[0.015] [0.02]\n"
     ]
    }
   ],
   "source": [
    "#20  利用19交叉验证得到的lambda (发现，这个交叉验证得到的lam应该是最准确的)\n",
    "lam=1e-08\n",
    "lin_model=regular_linear_regression(200,1000,lam)\n",
    "X_train,Y_train=lin_model.read_train_set()\n",
    "w=lin_model.get_w(X_train,Y_train)\n",
    "Ein=lin_model.error(X_train,Y_train,w)\n",
    "Eout=lin_model.error(X_test,Y_test,w)\n",
    "print(Ein,Eout)"
   ]
  }
 ],
 "metadata": {
  "kernelspec": {
   "display_name": "Python [conda env:py37] *",
   "language": "python",
   "name": "conda-env-py37-py"
  },
  "language_info": {
   "codemirror_mode": {
    "name": "ipython",
    "version": 3
   },
   "file_extension": ".py",
   "mimetype": "text/x-python",
   "name": "python",
   "nbconvert_exporter": "python",
   "pygments_lexer": "ipython3",
   "version": "3.6.7"
  }
 },
 "nbformat": 4,
 "nbformat_minor": 2
}
