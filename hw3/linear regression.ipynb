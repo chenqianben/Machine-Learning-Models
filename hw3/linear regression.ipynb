{
 "cells": [
  {
   "cell_type": "code",
   "execution_count": 7,
   "metadata": {},
   "outputs": [],
   "source": [
    "import numpy as np\n",
    "import random"
   ]
  },
  {
   "cell_type": "code",
   "execution_count": 8,
   "metadata": {},
   "outputs": [],
   "source": [
    "#linear regression\n",
    "class linear_regression(object):\n",
    "    def __init__(self,size):\n",
    "        self.size=size\n",
    "    \n",
    "    def generate_data(self):\n",
    "        X=np.zeros((self.size,3))\n",
    "        Y=np.zeros((self.size,1))\n",
    "        for i in range(self.size):\n",
    "            X[i,0]=1\n",
    "            X[i,1]=np.array([round(np.random.uniform(-1,1),2)])\n",
    "            X[i,2]=np.array([round(np.random.uniform(-1,1),2)]) #2表示保留两位数字，为0的特殊情况考虑\n",
    "            #加10%噪声\n",
    "            Y[i,0]=self.target_function(X[i,1],X[i,2])*np.where(np.random.random()<0.1,-1,1)\n",
    "        return X,Y\n",
    "        \n",
    "    def target_function(self,x1,x2):\n",
    "        if x1**2+x2**2-0.6>=0:\n",
    "            return +1\n",
    "        else:\n",
    "            return -1\n",
    "    \n",
    "    def get_w(self,X,Y):\n",
    "        w=np.dot(np.dot(np.linalg.inv(np.dot(X.T,X)),X.T),Y)\n",
    "        return w\n",
    "    \n",
    "    def error_rate(self,X,Y,w):\n",
    "        result_y=np.dot(X,w)\n",
    "        sum_error=sum(np.sign(result_y)!=Y,1)\n",
    "        return sum_error/X.shape[0]\n",
    "    \n",
    "    #第14题，由于13题考虑的是线性的，不一定是理想的，现在考虑特征转换，考虑到2维来\n",
    "    def feature_transform_data(self):\n",
    "        new_X=np.zeros((self.size,6))\n",
    "        X,Y=self.generate_data()\n",
    "        new_X[:,0:3]=X[:,:]\n",
    "        new_X[:,3]=X[:,1]*X[:,2]\n",
    "        new_X[:,4]=X[:,1]*X[:,1]\n",
    "        new_X[:,5]=X[:,2]*X[:,2]\n",
    "        return new_X,Y"
   ]
  },
  {
   "cell_type": "code",
   "execution_count": null,
   "metadata": {},
   "outputs": [],
   "source": [
    "#第13题\n",
    "if __name__ == '__main__':\n",
    "    a=linear_regression(1000)\n",
    "    sum_error=0\n",
    "    for i in range(1000):\n",
    "        X,Y=a.generate_data()\n",
    "        w=a.get_w(X,Y)\n",
    "        error=a.error_rate(X,Y,w)\n",
    "        sum_error+=error\n",
    "    print(sum_error/1000)"
   ]
  },
  {
   "cell_type": "code",
   "execution_count": null,
   "metadata": {},
   "outputs": [],
   "source": [
    "#Q14\n",
    "#发现第十四题用特征转换后的误差更小\n",
    "if __name__ == '__main__':\n",
    "    b=linear_regression(1000)\n",
    "    sum_w=np.zeros((6,1))\n",
    "    sum_error=0\n",
    "    for i in range(1000):\n",
    "        X,Y=b.feature_transform_data()\n",
    "        w=a.get_w(X,Y)\n",
    "        sum_w+=w\n",
    "        error=a.error_rate(X,Y,w)\n",
    "        sum_error+=error\n",
    "    print(\"the best w is: \" , sum_w/1000)\n",
    "    print(\"the average error is: \" , sum_error/1000)"
   ]
  },
  {
   "cell_type": "code",
   "execution_count": null,
   "metadata": {},
   "outputs": [],
   "source": [
    "#利用sklearn库来做linear regression\n",
    "from sklearn import datasets\n",
    "from sklearn.linear_model import LinearRegression  #引入线性回归模型\n",
    "\n",
    "#X,Y=generate_data(1000)   #产生数据\n",
    "#model=LinearRegression()\n",
    "#model.fit(X,Y)\n",
    "#model.predict(X[:4,:])   #预测X前四个数据的结果\n",
    "#w=model.coef_\n",
    "#print(model.coef_)       #得到模型的w\n",
    "#print(model.intercept_)         #得到模型的截距b \n",
    "#print(model.get_params())   #得到之前定义的参数\n",
    "#print(model.score(X,Y))     #给模型用R^2的方式打分\n",
    "    \n",
    "#搬运上面的产生数据的函数\n",
    "def generate_data(size):\n",
    "    X=np.zeros((size,3))\n",
    "    Y=np.zeros((size,1))\n",
    "    for i in range(size):\n",
    "        X[i,0]=1\n",
    "        X[i,1]=np.array([round(np.random.uniform(-1,1),2)])\n",
    "        X[i,2]=np.array([round(np.random.uniform(-1,1),2)]) #2表示保留两位数字，为0的特殊情况考虑\n",
    "        #加10%噪声\n",
    "        Y[i,0]=target_function(X[i,1],X[i,2])*np.where(np.random.random()<0.1,-1,1)\n",
    "    return X,Y\n",
    "\n",
    "def target_function(x1,x2):\n",
    "    if x1**2+x2**2-0.6>=0:\n",
    "        return +1\n",
    "    else:\n",
    "        return -1\n",
    "\n",
    "def error_rate(X,Y,w):\n",
    "    result_y=np.dot(X,w)\n",
    "    sum_error=sum(np.sign(result_y)!=Y,1)\n",
    "    return sum_error/X.shape[0]"
   ]
  },
  {
   "cell_type": "code",
   "execution_count": null,
   "metadata": {},
   "outputs": [],
   "source": [
    "# Q13            \n",
    "if __name__ == '__main__':\n",
    "    sum_error=0\n",
    "    for i in range(1000):\n",
    "        X,Y=generate_data(1000)\n",
    "        model=LinearRegression()\n",
    "        model.fit(X,Y)\n",
    "        w=model.coef_.reshape(3,1)\n",
    "        error=error_rate(X,Y,w)\n",
    "        sum_error+=error\n",
    "    print(sum_error/1000)"
   ]
  }
 ],
 "metadata": {
  "kernelspec": {
   "display_name": "Python [conda env:py37] *",
   "language": "python",
   "name": "conda-env-py37-py"
  },
  "language_info": {
   "codemirror_mode": {
    "name": "ipython",
    "version": 3
   },
   "file_extension": ".py",
   "mimetype": "text/x-python",
   "name": "python",
   "nbconvert_exporter": "python",
   "pygments_lexer": "ipython3",
   "version": "3.6.7"
  }
 },
 "nbformat": 4,
 "nbformat_minor": 2
}
