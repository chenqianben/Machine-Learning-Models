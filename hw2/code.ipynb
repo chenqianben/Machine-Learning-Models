{
 "cells": [
  {
   "cell_type": "code",
   "execution_count": 1,
   "metadata": {},
   "outputs": [],
   "source": [
    "import numpy as np"
   ]
  },
  {
   "cell_type": "code",
   "execution_count": 16,
   "metadata": {},
   "outputs": [
    {
     "name": "stdout",
     "output_type": "stream",
     "text": [
      "0.17014\n",
      "0.2561434158451364\n"
     ]
    }
   ],
   "source": [
    "# generate input data with 20% flipping noise\n",
    "def generate_input_data(time_seed):\n",
    "    np.random.seed(time_seed)\n",
    "    raw_X = np.sort(np.random.uniform(-1, 1, 20))\n",
    "    # 加20%噪声\n",
    "    noised_y = np.sign(raw_X) * np.where(np.random.random(raw_X.shape[0]) < 0.2, -1, 1)   \n",
    "    return raw_X, noised_y\n",
    "\n",
    "def calculate_Ein(x, y):\n",
    "    # calculate median of interval & negative infinite & positive infinite\n",
    "    thetas = np.array([float(\"-inf\")] + [(x[i] + x[i + 1]) / 2 for i in range(0, x.shape[0] - 1)] + [float(\"inf\")])\n",
    "    Ein = x.shape[0]\n",
    "    sign = 1\n",
    "    target_theta = 0.0\n",
    "    # positive and negative rays\n",
    "    for theta in thetas:              #遍历21种theta\n",
    "        hy_signPositive = np.where(x > theta, 1, -1)         #当s为正时\n",
    "        hy_signNegative = np.where(x < theta, 1, -1)        #当s为负时,一正一负遍历两种s\n",
    "        error_positive = sum(hy_signPositive != y)\n",
    "        error_negative = sum(hy_signNegative != y)\n",
    "        if error_positive > error_negative:          #若满足之，则考虑s为负时\n",
    "            if Ein > error_negative: \n",
    "                Ein = error_negative\n",
    "                sign = -1\n",
    "                target_theta = theta\n",
    "        else:                                        #反之，则考虑s为正时\n",
    "            if Ein > error_positive:\n",
    "                Ein = error_positive\n",
    "                sign = 1\n",
    "                target_theta = theta\n",
    "    # two corner cases\n",
    "    if target_theta == float(\"inf\"):\n",
    "        target_theta = 1.0\n",
    "    if target_theta == float(\"-inf\"):\n",
    "        target_theta = -1.0\n",
    "    return Ein, target_theta, sign               #这里的Ein还没有除以20\n",
    "\n",
    "if __name__ == '__main__':\n",
    "    T = 5000\n",
    "    total_Ein = 0\n",
    "    sum_Eout = 0\n",
    "    for i in range(0, T):\n",
    "        x, y = generate_input_data(i)\n",
    "        curr_Ein, theta, sign = calculate_Ein(x, y)\n",
    "        total_Ein = total_Ein + curr_Ein\n",
    "        sum_Eout = sum_Eout + 0.5 + 0.3 * sign * (abs(theta) - 1)\n",
    "    # 17\n",
    "    print((total_Ein * 1.0) / (T * 20))\n",
    "    # 18\n",
    "    print((sum_Eout * 1.0) / T)                   #Ein和Eout不同因为有noise"
   ]
  }
 ],
 "metadata": {
  "kernelspec": {
   "display_name": "Python [conda env:py37] *",
   "language": "python",
   "name": "conda-env-py37-py"
  },
  "language_info": {
   "codemirror_mode": {
    "name": "ipython",
    "version": 3
   },
   "file_extension": ".py",
   "mimetype": "text/x-python",
   "name": "python",
   "nbconvert_exporter": "python",
   "pygments_lexer": "ipython3",
   "version": "3.6.7"
  }
 },
 "nbformat": 4,
 "nbformat_minor": 2
}
