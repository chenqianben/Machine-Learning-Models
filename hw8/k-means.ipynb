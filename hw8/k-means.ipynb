{
 "cells": [
  {
   "cell_type": "code",
   "execution_count": 1,
   "metadata": {},
   "outputs": [],
   "source": [
    "# k - means\n",
    "import numpy as np"
   ]
  },
  {
   "cell_type": "code",
   "execution_count": 6,
   "metadata": {},
   "outputs": [
    {
     "name": "stdout",
     "output_type": "stream",
     "text": [
      "(100, 8)\n",
      "(100,)\n"
     ]
    }
   ],
   "source": [
    "#get data\n",
    "train_data=np.loadtxt('hw4_kmeans_train.txt')\n",
    "\n",
    "train_X=train_data[:,0:-1]\n",
    "train_y=train_data[:,-1]\n",
    "\n",
    "print(train_X.shape)\n",
    "print(train_y.shape)"
   ]
  },
  {
   "cell_type": "code",
   "execution_count": 47,
   "metadata": {},
   "outputs": [],
   "source": [
    "# -----------kMeans------------\n",
    "def kMean(k, X):\n",
    "    row, col = X.shape\n",
    "    permu = np.random.permutation(row)             #生成0到row-1的整数并随机排列\n",
    "    mu = X[permu[0: k], :]              # 随机初始化中心点,mu包含了k个中心点\n",
    "    epsilon = 1e-5; simi = 1              # epsilon允许误差范围，\n",
    "    while simi > epsilon:\n",
    "        #分析每一个点，并且考虑每个点离每个中心点的距离\n",
    "        S = np.zeros((row, k))           \n",
    "        for i in range(row):\n",
    "            for j in range(k):\n",
    "                S[i][j] = np.linalg.norm((X[i]-mu[j]),2)\n",
    "        pos = np.argmin(S,axis=1)\n",
    "        tempmu = mu.copy()\n",
    "        #更新mu\n",
    "        for i in range(k):\n",
    "            mu[i] = np.mean(X[pos==i,:],0)             # mean(...,0)表示对各列求均值\n",
    "        simi = np.linalg.norm((tempmu-mu),2)\n",
    "    return mu"
   ]
  },
  {
   "cell_type": "code",
   "execution_count": 54,
   "metadata": {},
   "outputs": [],
   "source": [
    "# 误差函数\n",
    "def errfun(X, mu):\n",
    "    row, col = X.shape\n",
    "    k = mu.shape[0]\n",
    "    err = 0\n",
    "    S = np.zeros((row, k))\n",
    "    for i in range(row):\n",
    "        for j in range(k):\n",
    "            S[i][j] = np.linalg.norm((X[i]-mu[j]),2)\n",
    "    pos = np.argmin(S,axis=1)\n",
    "    for i in range(row):\n",
    "        err += np.linalg.norm((X[i]-mu[pos[i]]),2)\n",
    "    return err/row"
   ]
  },
  {
   "cell_type": "code",
   "execution_count": 58,
   "metadata": {},
   "outputs": [
    {
     "name": "stdout",
     "output_type": "stream",
     "text": [
      "1.5208422484130648\n",
      "1.159437161776925\n"
     ]
    }
   ],
   "source": [
    "# Q19\n",
    "err=0\n",
    "for i in range(100):\n",
    "    mu = kMean(2,train_X)\n",
    "    err += errfun(train_X,mu)\n",
    "print(err/100)\n",
    "\n",
    "# Q20\n",
    "err=0\n",
    "for i in range(100):\n",
    "    mu = kMean(10,train_X)\n",
    "    err += errfun(train_X,mu)\n",
    "print(err/100)"
   ]
  }
 ],
 "metadata": {
  "kernelspec": {
   "display_name": "Python [conda env:py37] *",
   "language": "python",
   "name": "conda-env-py37-py"
  },
  "language_info": {
   "codemirror_mode": {
    "name": "ipython",
    "version": 3
   },
   "file_extension": ".py",
   "mimetype": "text/x-python",
   "name": "python",
   "nbconvert_exporter": "python",
   "pygments_lexer": "ipython3",
   "version": "3.6.7"
  }
 },
 "nbformat": 4,
 "nbformat_minor": 2
}
