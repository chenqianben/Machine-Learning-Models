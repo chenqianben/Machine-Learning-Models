{
 "cells": [
  {
   "cell_type": "code",
   "execution_count": null,
   "metadata": {},
   "outputs": [],
   "source": [
    "# K-近邻算法（K-NN）"
   ]
  },
  {
   "cell_type": "code",
   "execution_count": 11,
   "metadata": {},
   "outputs": [],
   "source": [
    "import numpy as np "
   ]
  },
  {
   "cell_type": "code",
   "execution_count": 54,
   "metadata": {},
   "outputs": [
    {
     "name": "stdout",
     "output_type": "stream",
     "text": [
      "(100, 9)\n",
      "(1000, 9)\n"
     ]
    }
   ],
   "source": [
    "#get data\n",
    "train_data=np.loadtxt('hw4_knn_train.txt')\n",
    "test_data=np.loadtxt('hw4_knn_test.txt')\n",
    "\n",
    "train_X=train_data[:,0:-1]\n",
    "train_y=train_data[:,-1]\n",
    "test_X=test_data[:,0:-1]\n",
    "test_y=test_data[:,-1]\n",
    "\n",
    "print(train_X.shape)\n",
    "print(test_X.shape)"
   ]
  },
  {
   "cell_type": "code",
   "execution_count": 76,
   "metadata": {},
   "outputs": [],
   "source": [
    "class KNN(object):\n",
    "    def __init__(self,train_X,train_y,K):\n",
    "        self.X=train_X\n",
    "        self.y=train_y\n",
    "        self.K=K\n",
    "        \n",
    "    def distance(self,x1,x2):\n",
    "        return np.linalg.norm(x1-x2,2)\n",
    "    \n",
    "    def prediction(self, test_X):\n",
    "        dis = np.zeros((test_X.shape[0],self.X.shape[0]))             # m行n列，m表示验证集的数据个数,n表示共有可以作比较的n个点\n",
    "        for i in range(dis.shape[0]):\n",
    "            for j in range(dis.shape[1]):\n",
    "                dis[i][j] = self.distance(test_X[i],self.X[j])\n",
    "        pos = np.argsort(dis,axis=1)    #argsort函数返回的是数组值从小到大的索引值，-表示降序排列，axis=1表示按行操作\n",
    "        pos = pos[:,0:self.K]\n",
    "        y_pred = self.y[pos]\n",
    "        y_pred = np.sum(y_pred,axis=1)\n",
    "        for i in range(y_pred.shape[0]):\n",
    "            y_pred[i] = 1 if y_pred[i] > 0 else -1\n",
    "        return y_pred   \n",
    "    \n",
    "    def error(self,y_pred,test_y):\n",
    "        return sum(y_pred!=test_y)/len(test_y)"
   ]
  },
  {
   "cell_type": "code",
   "execution_count": 81,
   "metadata": {},
   "outputs": [
    {
     "name": "stdout",
     "output_type": "stream",
     "text": [
      "0.0\n",
      "0.344\n",
      "0.16\n",
      "0.316\n"
     ]
    }
   ],
   "source": [
    "knn = KNN(train_X,train_y,1)\n",
    "# Q15\n",
    "knn = KNN(train_X,train_y,1)\n",
    "y_pred = knn.prediction(train_X)\n",
    "print(knn.error(y_pred,train_y))\n",
    "\n",
    "#Q16\n",
    "knn = KNN(train_X,train_y,1)\n",
    "y_pred = knn.prediction(test_X)\n",
    "print(knn.error(y_pred,test_y))\n",
    "\n",
    "#Q17\n",
    "knn = KNN(train_X,train_y,5)\n",
    "y_pred = knn.prediction(train_X)\n",
    "print(knn.error(y_pred,train_y))\n",
    "\n",
    "#Q18\n",
    "knn = KNN(train_X,train_y,5)\n",
    "y_pred = knn.prediction(test_X)\n",
    "print(knn.error(y_pred,test_y))"
   ]
  },
  {
   "cell_type": "code",
   "execution_count": null,
   "metadata": {},
   "outputs": [],
   "source": []
  }
 ],
 "metadata": {
  "kernelspec": {
   "display_name": "Python [conda env:py37] *",
   "language": "python",
   "name": "conda-env-py37-py"
  },
  "language_info": {
   "codemirror_mode": {
    "name": "ipython",
    "version": 3
   },
   "file_extension": ".py",
   "mimetype": "text/x-python",
   "name": "python",
   "nbconvert_exporter": "python",
   "pygments_lexer": "ipython3",
   "version": "3.6.7"
  }
 },
 "nbformat": 4,
 "nbformat_minor": 2
}
