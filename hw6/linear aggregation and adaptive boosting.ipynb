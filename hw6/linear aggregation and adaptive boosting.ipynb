{
 "cells": [
  {
   "cell_type": "code",
   "execution_count": 23,
   "metadata": {},
   "outputs": [],
   "source": [
    "#用adaBoost来创建很多的ut\n",
    "import numpy as np\n",
    "from sklearn.linear_model import LinearRegression  #引入线性回归模型\n",
    "from sklearn.linear_model import LogisticRegression  #引入逻辑回归模型"
   ]
  },
  {
   "cell_type": "code",
   "execution_count": 24,
   "metadata": {},
   "outputs": [],
   "source": [
    "f=np.loadtxt(\"hw2_adaboost_train.txt\")\n",
    "X_train=f[:,0:2]\n",
    "y_train=f[:,2]\n",
    "f=np.loadtxt(\"hw2_adaboost_test.txt\")\n",
    "X_test=f[:,0:2]\n",
    "y_test=f[:,2]"
   ]
  },
  {
   "cell_type": "code",
   "execution_count": 27,
   "metadata": {},
   "outputs": [
    {
     "name": "stdout",
     "output_type": "stream",
     "text": [
      "w= [[ 2.91520843]\n",
      " [-3.09355271]]\n",
      "b= [-0.08977761]\n",
      "[-1. -1. -1. -1. -1.  1.  1.  1. -1.  1. -1.  1.  1.  1.  1. -1. -1. -1.\n",
      " -1. -1.  1.  1. -1. -1. -1. -1. -1.  1.  1. -1.  1.  1.  1. -1.  1. -1.\n",
      " -1. -1.  1.  1. -1.  1.  1.  1. -1. -1. -1.  1.  1. -1.]\n",
      "[ 1.  1.  1.  1.  1. -1. -1. -1.  1. -1.  1. -1. -1. -1. -1.  1.  1.  1.\n",
      "  1.  1. -1. -1.  1.  1.  1.  1.  1. -1. -1.  1. -1. -1. -1.  1. -1.  1.\n",
      "  1.  1. -1. -1.  1. -1. -1. -1.  1.  1.  1. -1. -1.  1.]\n"
     ]
    },
    {
     "name": "stderr",
     "output_type": "stream",
     "text": [
      "D:\\anaconda\\envs\\py37\\lib\\site-packages\\sklearn\\linear_model\\logistic.py:433: FutureWarning: Default solver will be changed to 'lbfgs' in 0.22. Specify a solver to silence this warning.\n",
      "  FutureWarning)\n"
     ]
    }
   ],
   "source": [
    "#如果只是一次性的linear regression，那么当作logistic regression即可\n",
    "#发现分类效果很不理想\n",
    "model=LogisticRegression()\n",
    "model.fit(X_train,y_train)\n",
    "w=model.coef_.reshape(X.shape[1],1)\n",
    "b=model.intercept_\n",
    "print('w=',w)\n",
    "print('b=',b)\n",
    "\n",
    "def error(y,y_predict):\n",
    "    return sum(y!=y_predict)/y.shape[0]\n",
    "\n",
    "y_predict=model.predict(X_test)\n",
    "print(y_test[0:50])\n",
    "print(y_predict[0:50])"
   ]
  },
  {
   "cell_type": "code",
   "execution_count": 36,
   "metadata": {},
   "outputs": [],
   "source": [
    "#利用adaptive boosting\n",
    "u1=1/X.shape[0]"
   ]
  },
  {
   "cell_type": "code",
   "execution_count": null,
   "metadata": {},
   "outputs": [],
   "source": []
  }
 ],
 "metadata": {
  "kernelspec": {
   "display_name": "Python [conda env:py37] *",
   "language": "python",
   "name": "conda-env-py37-py"
  },
  "language_info": {
   "codemirror_mode": {
    "name": "ipython",
    "version": 3
   },
   "file_extension": ".py",
   "mimetype": "text/x-python",
   "name": "python",
   "nbconvert_exporter": "python",
   "pygments_lexer": "ipython3",
   "version": "3.6.7"
  }
 },
 "nbformat": 4,
 "nbformat_minor": 2
}
