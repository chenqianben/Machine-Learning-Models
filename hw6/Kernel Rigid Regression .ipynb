{
 "cells": [
  {
   "cell_type": "code",
   "execution_count": 109,
   "metadata": {},
   "outputs": [],
   "source": [
    "import numpy as np"
   ]
  },
  {
   "cell_type": "code",
   "execution_count": 150,
   "metadata": {},
   "outputs": [
    {
     "name": "stdout",
     "output_type": "stream",
     "text": [
      "(500, 11)\n"
     ]
    }
   ],
   "source": [
    "#对于dat和txt文件的处理是一样的，dat文件后缀改成txt就行，就可以用下面的处理方式\n",
    "f=np.loadtxt(\"hw2_lssvm_all.txt\")\n",
    "print(f.shape)\n",
    "X=f[:,:10]                              #本来就是考虑z域，不需要管x0的问题\n",
    "X_train=X[0:400,:]                        #X_train dim为400*10\n",
    "X_test=X[400:,:]                          #X_test dim为600*10\n",
    "\n",
    "y=f[:,10]\n",
    "y_train=y[0:400]\n",
    "y_test=y[400:]"
   ]
  },
  {
   "cell_type": "code",
   "execution_count": 182,
   "metadata": {},
   "outputs": [],
   "source": [
    "class KRR(object):\n",
    "    def __init__(self,lam,gamma):\n",
    "        self.lam=lam\n",
    "        self.gamma=gamma\n",
    "        \n",
    "    def gaussian_kernel(self,X):\n",
    "        N=X.shape[0]\n",
    "        kernel=np.zeros((N,N))\n",
    "        for i in range(N):\n",
    "            for j in range(N):\n",
    "                norm=np.linalg.norm(X[i,:]-X[j,:],2)\n",
    "                kernel[i][j]=np.exp(-gamma*norm)           #kernel dim为 N*N\n",
    "        return kernel\n",
    "        \n",
    "    def getBelta(self,X,y):         #这就是llsvm\n",
    "        eye=np.eye(y.shape[0])\n",
    "        return np.linalg.pinv(self.lam*eye+self.gaussian_kernel(X)).dot(y)                    #belta的dim为N*1\n",
    "    \n",
    "    def Ein(self,X_train,y_train,belta):            #由于belta的dim是400*1的，对于Y_train（dim为400*1）的预测只需要正常矩阵运算就行\n",
    "        kernel=self.gaussian_kernel(X_train)\n",
    "        predict_y=np.sign(np.dot(kernel,belta))           #怎么写y_predict很重要！！！\n",
    "        return sum(predict_y!=y_train)/y_train.shape[0]\n",
    "     \n",
    "    def Eout(self,X_train,X_test,y_test,belta):         #在预测Y_test时（dim为100*1），由于belta的dim是400*1的，不能直接矩阵运算\n",
    "        y_predict=[]\n",
    "        for i in range(X_test.shape[0]):       #对X_test的每个数据分别处理\n",
    "            x=X_test[i,:]          #x的dim为1*10\n",
    "            y=0\n",
    "            for j in range(belta.shape[0]):\n",
    "                y+=belta[j]*np.exp(-self.gamma*sum((x-X_train[j])**2))            # X_train中的每个数据都要跟x进行操作\n",
    "            y=sign(y)\n",
    "            y_predict.append(y)\n",
    "        return sum(y_predict!=y_test)/y_test.shape[0]"
   ]
  },
  {
   "cell_type": "code",
   "execution_count": 180,
   "metadata": {},
   "outputs": [
    {
     "name": "stdout",
     "output_type": "stream",
     "text": [
      "Ein 0.0 lambda= 0.001 gamma= 32\n",
      "Ein 0.0 lambda= 0.001 gamma= 2\n",
      "Ein 0.0 lambda= 0.001 gamma= 0.125\n",
      "Ein 0.0 lambda= 1 gamma= 32\n",
      "Ein 0.0 lambda= 1 gamma= 2\n",
      "Ein 0.1525 lambda= 1 gamma= 0.125\n",
      "Ein 0.0 lambda= 1000 gamma= 32\n",
      "Ein 0.0 lambda= 1000 gamma= 2\n",
      "Ein 0.3175 lambda= 1000 gamma= 0.125\n",
      "Ein_min= 0.0 lambda= 0.001 gamma= 32\n"
     ]
    }
   ],
   "source": [
    "if __name__ == '__main__':\n",
    "    #第19题\n",
    "    Ein_min=10\n",
    "    lam_best=0\n",
    "    gamma_best=0\n",
    "    for lam in (0.001,1,1000):\n",
    "        for gamma in (32,2,0.125):\n",
    "            model=KRR(lam,gamma)\n",
    "            belta=model.getBelta(X_train,y_train)\n",
    "\n",
    "            Ein=model.Ein(X_train,y_train,belta)\n",
    "            print('Ein',Ein,'lambda=',lam,'gamma=',gamma)\n",
    "            if Ein<Ein_min:\n",
    "                Ein_min=Ein\n",
    "                lam_best=lam\n",
    "                gamma_best=gamma\n",
    "    print('Ein_min=',Ein_min,'lambda=',lam_best,'gamma=',gamma_best)\n",
    "#发现，大部分Ein都是0，说明这个算法的拟合非常到位。"
   ]
  },
  {
   "cell_type": "code",
   "execution_count": 183,
   "metadata": {},
   "outputs": [
    {
     "name": "stdout",
     "output_type": "stream",
     "text": [
      "Eout 0.44 lambda= 0.001 gamma= 32\n",
      "Eout 0.44 lambda= 0.001 gamma= 2\n",
      "Eout 0.58 lambda= 0.001 gamma= 0.125\n",
      "Eout 0.44 lambda= 1 gamma= 32\n",
      "Eout 0.44 lambda= 1 gamma= 2\n",
      "Eout 0.53 lambda= 1 gamma= 0.125\n",
      "Eout 0.44 lambda= 1000 gamma= 32\n",
      "Eout 0.44 lambda= 1000 gamma= 2\n",
      "Eout 0.39 lambda= 1000 gamma= 0.125\n",
      "Eout_min= 0.39 lambda= 1000 gamma= 0.125\n"
     ]
    }
   ],
   "source": [
    "if __name__ == '__main__':\n",
    "    #第20题\n",
    "    Eout_min=10\n",
    "    lam_best=0\n",
    "    gamma_best=0\n",
    "    for lam in (0.001,1,1000):\n",
    "        for gamma in (32,2,0.125):\n",
    "            model=KRR(lam,gamma)\n",
    "            belta=model.getBelta(X_train,y_train)\n",
    "            \n",
    "            Eout=model.Eout(X_train,X_test,y_test,belta)\n",
    "            print('Eout',Eout,'lambda=',lam,'gamma=',gamma)\n",
    "            if Eout<Eout_min:\n",
    "                Eout_min=Eout\n",
    "                lam_best=lam\n",
    "                gamma_best=gamma\n",
    "    print('Eout_min=',Eout_min,'lambda=',lam_best,'gamma=',gamma_best)"
   ]
  },
  {
   "cell_type": "code",
   "execution_count": null,
   "metadata": {},
   "outputs": [],
   "source": []
  }
 ],
 "metadata": {
  "kernelspec": {
   "display_name": "Python [conda env:py37] *",
   "language": "python",
   "name": "conda-env-py37-py"
  },
  "language_info": {
   "codemirror_mode": {
    "name": "ipython",
    "version": 3
   },
   "file_extension": ".py",
   "mimetype": "text/x-python",
   "name": "python",
   "nbconvert_exporter": "python",
   "pygments_lexer": "ipython3",
   "version": "3.6.7"
  }
 },
 "nbformat": 4,
 "nbformat_minor": 2
}
