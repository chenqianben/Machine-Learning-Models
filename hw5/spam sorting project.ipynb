{
 "cells": [
  {
   "cell_type": "code",
   "execution_count": 4,
   "metadata": {},
   "outputs": [],
   "source": [
    "import numpy as np\n",
    "import pandas as pd\n",
    "from scipy.io import loadmat\n",
    "from sklearn import svm\n",
    "%matplotlib inline\n",
    "\n",
    "\n",
    "#垃圾分类，读取数据集\n",
    "spam_train = loadmat('spamTrain.mat')  \n",
    "spam_test = loadmat('spamTest.mat')\n",
    "X = spam_train['X']                     #X.shape 为4000*1899，总共有1899个特征\n",
    "Xtest = spam_test['Xtest']  \n",
    "y = spam_train['y'].ravel()  \n",
    "ytest = spam_test['ytest'].ravel()      #ytest的shape由(n,1)变成了(n,)"
   ]
  },
  {
   "cell_type": "code",
   "execution_count": 6,
   "metadata": {},
   "outputs": [
    {
     "name": "stderr",
     "output_type": "stream",
     "text": [
      "D:\\anaconda\\envs\\py37\\lib\\site-packages\\sklearn\\svm\\base.py:196: FutureWarning: The default value of gamma will change from 'auto' to 'scale' in version 0.22 to account better for unscaled features. Set gamma explicitly to 'auto' or 'scale' to avoid this warning.\n",
      "  \"avoid this warning.\", FutureWarning)\n"
     ]
    },
    {
     "name": "stdout",
     "output_type": "stream",
     "text": [
      "Test accuracy = 95.3%\n"
     ]
    }
   ],
   "source": [
    "#建立SVC模型和训练\n",
    "svc = svm.SVC()  \n",
    "svc.fit(X, y)  \n",
    "print('Test accuracy = {0}%'.format(np.round(svc.score(Xtest, ytest) * 100, 2)))  #保留两位小数"
   ]
  }
 ],
 "metadata": {
  "kernelspec": {
   "display_name": "Python [conda env:py37] *",
   "language": "python",
   "name": "conda-env-py37-py"
  },
  "language_info": {
   "codemirror_mode": {
    "name": "ipython",
    "version": 3
   },
   "file_extension": ".py",
   "mimetype": "text/x-python",
   "name": "python",
   "nbconvert_exporter": "python",
   "pygments_lexer": "ipython3",
   "version": "3.6.7"
  }
 },
 "nbformat": 4,
 "nbformat_minor": 2
}
