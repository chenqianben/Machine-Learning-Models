{
 "cells": [
  {
   "cell_type": "code",
   "execution_count": 1,
   "metadata": {},
   "outputs": [
    {
     "name": "stdout",
     "output_type": "stream",
     "text": [
      "     pcost       dcost       gap    pres   dres\n",
      " 0: -2.2094e+00 -4.6670e+00  2e+01  4e+00  2e+00\n",
      " 1: -3.4669e+00 -4.4487e+00  7e+00  1e+00  6e-01\n",
      " 2: -1.2955e+00 -2.1369e+00  1e+00  5e-02  2e-02\n",
      " 3: -1.3959e+00 -1.4567e+00  7e-02  1e-03  6e-04\n",
      " 4: -1.4073e+00 -1.4079e+00  7e-04  1e-05  6e-06\n",
      " 5: -1.4074e+00 -1.4074e+00  7e-06  1e-07  6e-08\n",
      " 6: -1.4074e+00 -1.4074e+00  7e-08  1e-09  6e-10\n",
      "Optimal solution found.\n",
      "alphas: [ 6.69e-09]\n",
      "[ 7.04e-01]\n",
      "[ 7.04e-01]\n",
      "[ 8.89e-01]\n",
      "[ 2.59e-01]\n",
      "[ 2.59e-01]\n",
      "[ 6.39e-10]\n",
      "\n",
      "x1*x1: 0.8888888946403464 x2*x2: 0.6666666837662523 x1*x2: 0.0 x1: -1.7777778134824025 x2: -2.220446049250313e-16 1: -1.5867183436310736e-10\n",
      "b: -1.6666666836075805\n"
     ]
    }
   ],
   "source": [
    "# hard-margin kernel SVM\n",
    "#解法1.2：用cvxopt包，相当于QP解法，并且用solvers.qp(Q,p,G,h)\n",
    "from cvxopt import solvers, matrix\n",
    "import numpy as np \n",
    "def kernel(x1,x2):\n",
    "    return (1+np.dot(x1,x2))**2\n",
    "\n",
    "xs = [[1,0],[0,1],[0,-1],[-1,0],[0,2],[0,-2],[-2,0]]\n",
    "ys = np.array([-1,-1,-1,1,1,1,1])\n",
    "Q = np.zeros((7,7))\n",
    "for i in range(7):\n",
    "    for j in range(7):\n",
    "        Q[i][j] = ys[i]*ys[j]*kernel(np.array(xs[i]),np.array(xs[j]))\n",
    "\n",
    "p = -np.ones(7)\n",
    "A = np.zeros((9,7))\n",
    "A[0] = ys\n",
    "A[1] = -ys\n",
    "for i in range(2,9):\n",
    "    A[i][i-2] = -1\n",
    "c = np.zeros(9)\n",
    "\n",
    "P = matrix(Q)\n",
    "q = matrix(p)\n",
    "G = matrix(A)\n",
    "h = matrix(c)\n",
    "\n",
    "alphas = solvers.qp(P,q,G,h)\n",
    "alphas = alphas['x']\n",
    "print('alphas:',alphas)\n",
    "\n",
    "def kernelParameters(x):\n",
    "    return np.array([x[0]*x[0],x[1]*x[1],2*x[0]*x[1],2*x[0],2*x[1],1])\n",
    "\n",
    "w = np.zeros(6)\n",
    "for i in range(7):\n",
    "    w += alphas[i]*ys[i]*kernelParameters(xs[i])\n",
    "\n",
    "b = ys[1]\n",
    "for i in range(7):\n",
    "    b -= alphas[i]*ys[i]*kernel(xs[i],xs[1])\n",
    "\n",
    "print('x1*x1:',w[0],'x2*x2:',w[1],'x1*x2:',w[2],'x1:',w[3],'x2:',w[4],'1:',w[5])\n",
    "print('b:',b)"
   ]
  },
  {
   "cell_type": "code",
   "execution_count": 2,
   "metadata": {},
   "outputs": [
    {
     "name": "stdout",
     "output_type": "stream",
     "text": [
      "[2 3]\n",
      "[[-0.59647182 -0.81065085  0.8887034   0.20566488  0.31275439]]\n",
      "[[ 0.  1.]\n",
      " [ 0. -1.]\n",
      " [-1.  0.]\n",
      " [ 0.  2.]\n",
      " [ 0. -2.]]\n",
      "[-1.66633088]\n"
     ]
    }
   ],
   "source": [
    "#第三题：针对的是hard-margin kernel SVM\n",
    "#解法1：用sklearn\n",
    "from sklearn import svm\n",
    "from sklearn.model_selection import train_test_split\n",
    "import numpy as np\n",
    "\n",
    "xs = [[1,0],[0,1],[0,-1],[-1,0],[0,2],[0,-2],[-2,0]]\n",
    "ys = [-1,-1,-1,1,1,1,1]\n",
    "\n",
    "clf = svm.SVC(C=1e10, kernel='poly', degree=2, gamma=1, coef0=1)       #C尽可能大表示hard SVM,选择多项式核，\n",
    "                                                                       #（gamma*xT*x+r)^d，d是degree,r是coef0\\\n",
    "clf.fit(xs,ys)\n",
    "clf.predict(xs)\n",
    "print(clf.n_support_)         # 支持向量的数目  \n",
    "print(clf.dual_coef_)         #支持向量的系数，公式中的alpha*y\n",
    "print(clf.support_vectors_)   #支持向量\n",
    "#print(clf.coef_)             只有linear kernel的时候才有coef_\n",
    "print(clf.intercept_)         #截距，公式中的b"
   ]
  },
  {
   "cell_type": "code",
   "execution_count": 6,
   "metadata": {},
   "outputs": [
    {
     "ename": "SyntaxError",
     "evalue": "Missing parentheses in call to 'print'. Did you mean print('wn_list:', wn_list)? (<ipython-input-6-7636be96fe7a>, line 24)",
     "output_type": "error",
     "traceback": [
      "\u001b[1;36m  File \u001b[1;32m\"<ipython-input-6-7636be96fe7a>\"\u001b[1;36m, line \u001b[1;32m24\u001b[0m\n\u001b[1;33m    print 'wn_list:', wn_list\u001b[0m\n\u001b[1;37m        ^\u001b[0m\n\u001b[1;31mSyntaxError\u001b[0m\u001b[1;31m:\u001b[0m Missing parentheses in call to 'print'. Did you mean print('wn_list:', wn_list)?\n"
     ]
    }
   ],
   "source": [
    "# Q15-20\n",
    "import numpy as np\n",
    "from sklearn import svm\n",
    "import matplotlib.pyplot as plt\n",
    "\n",
    "dataset = np.loadtxt('features.train')\n",
    "X = dataset[:,1:]\n",
    "y = dataset[:,0]\n",
    "y0 = np.where(y==0, 1 ,-1)\n",
    "\n",
    "wn_list = []\n",
    "lc_list=[-6,-4,-2,0,2]\n",
    "\n",
    "for lc in lc_list:\n",
    "    #print lc\n",
    "    c = 10**lc\n",
    "    clf = svm.SVC(C=c, kernel='linear',shrinking=False)    \n",
    "    clf.fit(X, y0)\n",
    "    w = clf.coef_\n",
    "    wn = np.linalg.norm(w)\n",
    "    wn_list.append(wn)\n",
    "    print( 'w: ', clf.coef_, '|w|: ', np.linalg.norm(clf.coef_)\n",
    "\n",
    "print()'wn_list:', wn_list\n",
    "\n",
    "plt.plot(lc_list, wn_list, color=\"blue\")    #查看线性SVM中的w与系数C的关系\n",
    "plt.show()"
   ]
  },
  {
   "cell_type": "code",
   "execution_count": null,
   "metadata": {},
   "outputs": [],
   "source": []
  }
 ],
 "metadata": {
  "kernelspec": {
   "display_name": "Python [conda env:py37] *",
   "language": "python",
   "name": "conda-env-py37-py"
  },
  "language_info": {
   "codemirror_mode": {
    "name": "ipython",
    "version": 3
   },
   "file_extension": ".py",
   "mimetype": "text/x-python",
   "name": "python",
   "nbconvert_exporter": "python",
   "pygments_lexer": "ipython3",
   "version": "3.6.7"
  }
 },
 "nbformat": 4,
 "nbformat_minor": 2
}
