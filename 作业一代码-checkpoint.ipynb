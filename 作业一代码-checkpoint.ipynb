{
 "cells": [
  {
   "cell_type": "code",
   "execution_count": 173,
   "metadata": {},
   "outputs": [],
   "source": [
    "import numpy as np\n",
    "import random\n",
    "import copy"
   ]
  },
  {
   "cell_type": "code",
   "execution_count": 174,
   "metadata": {},
   "outputs": [
    {
     "name": "stdout",
     "output_type": "stream",
     "text": [
      "(array([-3.       ,  3.0841436, -1.583081 ,  2.391305 ,  4.5287635]), 45)\n"
     ]
    }
   ],
   "source": [
    "#PLA实现，得到最优的w结果和迭代的次数\n",
    "class CyclePLA(object):\n",
    "    def __init__(self,dimension,count,epsilon):\n",
    "        self.count=count\n",
    "        self.dimension=dimension\n",
    "        self.epsilon=epsilon\n",
    "        \n",
    "    #get data\n",
    "    def get_data_matrix(self,path):\n",
    "        training_set = open(path)\n",
    "        x_train=np.zeros((self.count,self.dimension + 1)) #初始化训练集\n",
    "        y_train=np.zeros((self.count,1)) #初始化训练集标签\n",
    "        x=[]\n",
    "        x_count = 0\n",
    "        for line in training_set:\n",
    "            #在第一列先加入x0\n",
    "            x.append(1)\n",
    "            for s in line.split(' '):\n",
    "                if len(s.split('\\t')) == 1: #为了不考虑最后一个带转移符\\n的元素\n",
    "                    x.append(float(s))\n",
    "                else:\n",
    "                    x.append(float(s.split('\\t')[0]))\n",
    "                    y_train[x_count,0]=int(s.split('\\t')[1].strip())\n",
    "            x_train[x_count,:]=x\n",
    "            x=[]\n",
    "            x_count+=1\n",
    "        return x_train,y_train\n",
    "    \n",
    "    def PLA(self,path):\n",
    "        iteration=0   #计算一下循环的次数\n",
    "        x_train,y_train=self.get_data_matrix(path)\n",
    "        w=np.zeros(self.dimension+1)\n",
    "        #进入循环直到所有的点都正确分类\n",
    "        verify=True\n",
    "        while verify:\n",
    "            verify=False\n",
    "            for i in range(self.count):\n",
    "                if np.dot(w,x_train[i,:]) * y_train[i,0] <= 0:\n",
    "                    w=w+self.epsilon*y_train[i,0]*x_train[i,:]\n",
    "                    verify=True\n",
    "                    iteration+=1\n",
    "        return w,iteration\n",
    "\n",
    "if __name__ == '__main__':\n",
    "    perception = CyclePLA(4,400,1)\n",
    "    print(perception.PLA(\"hw1_15_train.dat\"))\n",
    "                \n",
    "            \n",
    "        \n",
    "        \n",
    "        "
   ]
  },
  {
   "cell_type": "code",
   "execution_count": 175,
   "metadata": {},
   "outputs": [
    {
     "name": "stdout",
     "output_type": "stream",
     "text": [
      "['0.97681', '0.10723', '0.64385', '0.29556\\t1\\n']\n",
      "['0.97681']\n",
      "['0.10723']\n",
      "['0.64385']\n",
      "['0.29556', '1\\n']\n",
      "<_io.TextIOWrapper name='hw1_15_train.dat' mode='r' encoding='cp936'>\n"
     ]
    }
   ],
   "source": [
    "#对这个dat文件数据的实验\n",
    "x=open(\"hw1_15_train.dat\")\n",
    "a=x.readline().split(' ')\n",
    "print(a)\n",
    "for cc in a :\n",
    "    print(cc.split('\\t'))\n",
    "print(x)"
   ]
  },
  {
   "cell_type": "code",
   "execution_count": 176,
   "metadata": {},
   "outputs": [
    {
     "name": "stdout",
     "output_type": "stream",
     "text": [
      "41.05\n"
     ]
    }
   ],
   "source": [
    "#由于迭代次数与样本顺序有关，打乱殊勋，计算平均迭代次数\n",
    "class RandomCyclePLA(object):\n",
    "    def __init__(self,dimension,count,epsilon):\n",
    "        self.count=count\n",
    "        self.dimension=dimension\n",
    "        self.epsilon=epsilon\n",
    "        \n",
    "    #get data\n",
    "    def get_random_list(self,path):\n",
    "        training_set = open(path)\n",
    "        random_list=[]\n",
    "        x=[]\n",
    "        for line in training_set:\n",
    "            #在第一列先加入x0\n",
    "            x.append(1)\n",
    "            for s in line.split(' '):\n",
    "                if len(s.split('\\t')) == 1: #为了不考虑最后一个带转移符\\n的元素\n",
    "                    x.append(float(s))\n",
    "                else:\n",
    "                    x.append(float(s.split('\\t')[0]))\n",
    "                    x.append(float(s.split('\\t')[1]))\n",
    "            random_list.append(x)\n",
    "            random.shuffle(random_list)\n",
    "            x=[]\n",
    "        return random_list\n",
    "    \n",
    "    def get_data_matrix(self,path):\n",
    "        random_list=self.get_random_list(path)\n",
    "        x_train=np.zeros((self.count,self.dimension + 1)) #初始化训练集\n",
    "        y_train=np.zeros((self.count,1)) #初始化训练集标签\n",
    "        for i in range(len(random_list)):\n",
    "            x_train[i,0]=1\n",
    "            x_train[i,1:5]=random_list[i][1:5]\n",
    "            y_train[i,0]=random_list[i][5]\n",
    "        return x_train,y_train\n",
    "    \n",
    "    def PLA(self,path):\n",
    "        a=[]\n",
    "        for i in range(20):\n",
    "            iteration=0   #计算一下循环的次数\n",
    "            x_train,y_train=self.get_data_matrix(path)\n",
    "            w=np.zeros(self.dimension+1)\n",
    "            #进入循环直到所有的点都正确分类\n",
    "            verify=True\n",
    "            while verify:\n",
    "                verify=False\n",
    "                for i in range(self.count):\n",
    "                    if np.dot(w,x_train[i,:]) * y_train[i,0] <= 0:\n",
    "                        w=w+self.epsilon*y_train[i,0]*x_train[i,:]\n",
    "                        verify=True\n",
    "                        iteration+=1\n",
    "            a.append(iteration)\n",
    "        average=0\n",
    "        for x in a:\n",
    "            average+=x\n",
    "        average=average/len(a)\n",
    "        return average\n",
    "\n",
    "if __name__ == '__main__':\n",
    "    perception = RandomCyclePLA(4,400,0.5)\n",
    "    print(perception.PLA(\"hw1_15_train.dat\"))\n"
   ]
  },
  {
   "cell_type": "code",
   "execution_count": 177,
   "metadata": {},
   "outputs": [
    {
     "data": {
      "text/plain": [
       "array([3, 4])"
      ]
     },
     "execution_count": 177,
     "metadata": {},
     "output_type": "execute_result"
    }
   ],
   "source": [
    "#注意列表和数列分片的区别\n",
    "a=[[1,2],[3,4]]\n",
    "a[1][0:2]\n",
    "b=np.array(a)\n",
    "b[1,0:2]"
   ]
  },
  {
   "cell_type": "code",
   "execution_count": 195,
   "metadata": {},
   "outputs": [
    {
     "name": "stdout",
     "output_type": "stream",
     "text": [
      "0.298\n"
     ]
    }
   ],
   "source": [
    "#PLA-pocket算法\n",
    "#1.和PLA算法的区别是，pocket算法每次对w进行更新直到达到迭代次数，\n",
    "#每次更新w后都判断该线是否是当前最好的那条线，如果是就放入口袋，最终得到一条线\n",
    "#2.pocket算法的终止条件是达到了预设的更新次数\n",
    "class RandomCyclePLA(object):\n",
    "    def __init__(self,dimension,train_count,test_count,epsilon):\n",
    "        self.dimension=dimension\n",
    "        self.test_count=test_count\n",
    "        self.train_count=train_count\n",
    "        self.epsilon=epsilon\n",
    "        \n",
    "    #get data\n",
    "    def get_random_list(self,path):\n",
    "        training_set = open(path)\n",
    "        random_list=[]\n",
    "        x=[]\n",
    "        for line in training_set:\n",
    "            #在第一列先加入x0\n",
    "            x.append(1)\n",
    "            for s in line.split(' '):\n",
    "                if len(s.split('\\t')) == 1: #为了不考虑最后一个带转移符\\n的元素\n",
    "                    x.append(float(s))\n",
    "                else:\n",
    "                    x.append(float(s.split('\\t')[0]))\n",
    "                    x.append(float(s.split('\\t')[1]))\n",
    "            random_list.append(x)\n",
    "            random.shuffle(random_list)\n",
    "            x=[]\n",
    "        return random_list\n",
    "    \n",
    "    def get_train_data_matrix(self,train_path):\n",
    "        random_list=self.get_random_list(train_path)\n",
    "        x_train=np.zeros((self.train_count,self.dimension + 1)) #初始化训练集\n",
    "        y_train=np.zeros((self.train_count,1)) #初始化训练集标签\n",
    "        for i in range(len(random_list)):\n",
    "            x_train[i,0]=1\n",
    "            x_train[i,1:5]=random_list[i][1:5]\n",
    "            y_train[i,0]=random_list[i][5]\n",
    "        return x_train,y_train\n",
    "    \n",
    "    def get_test_data_matrix(self,test_path):\n",
    "        random_list=self.get_random_list(test_path)\n",
    "        x_test=np.zeros((self.test_count,self.dimension + 1)) #初始化训练集\n",
    "        y_test=np.zeros((self.test_count,1)) #初始化训练集标签\n",
    "        for i in range(len(random_list)):\n",
    "            x_test[i,0]=1\n",
    "            x_test[i,1:5]=random_list[i][1:5]\n",
    "            y_test[i,0]=random_list[i][5]\n",
    "        return x_test,y_test\n",
    "    \n",
    "    def PLA(self,train_path):\n",
    "        best_w=np.zeros((self.dimension+1,1))    #保存最好的w\n",
    "        best_num=self.train_count             #保存最少的错误数num\n",
    "        count=0       #计算一下w修改的次数count\n",
    "        x_train,y_train=self.get_train_data_matrix(train_path)\n",
    "        w=np.zeros((self.dimension+1,1))\n",
    "        #进入循环直到所有的点都正确分类\n",
    "        for i in range(self.train_count):\n",
    "            if np.dot(x_test[i,:], w)[0] * y_test[i, 0] <= 0:\n",
    "                w += self.epsilon*y_train[i,0]*x_train[i,:].reshape(5,1)\n",
    "                count+=1\n",
    "                num=0\n",
    "                for j in range(self.train_count):\n",
    "                    if np.dot(x_test[j,:], w)[0] * y_test[j, 0] <= 0:\n",
    "                        num+=1\n",
    "                if num < best_num:\n",
    "                    best_count=num\n",
    "                    best_w=copy.deepcopy(w)\n",
    "                if count == 50:\n",
    "                    break\n",
    "        return best_w\n",
    "    \n",
    "    def test_error(self,train_path,test_path):\n",
    "        best_w=self.PLA(train_path)\n",
    "        x_test,y_test=self.get_test_data_matrix(test_path)\n",
    "        error_rate=0\n",
    "        for j in range(self.test_count):\n",
    "            if np.dot(x_test[j,:],best_w)[0] * y_test[j, 0] <= 0:\n",
    "                 error_rate+=1\n",
    "        error_rate=error_rate/self.test_count\n",
    "        return error_rate\n",
    "\n",
    "    \n",
    "if __name__ == '__main__':\n",
    "    avg_err_rate=0\n",
    "    for i in range(4):\n",
    "        perception = RandomCyclePLA(4,500,500,0.5)\n",
    "        test_error=perception.test_error(\"hw1_18_train.dat\",\"hw1_18_test.dat\")\n",
    "        avg_err_rate+=test_error\n",
    "    print(avg_err_rate/4)\n"
   ]
  },
  {
   "cell_type": "code",
   "execution_count": 188,
   "metadata": {},
   "outputs": [
    {
     "name": "stdout",
     "output_type": "stream",
     "text": [
      "[8]\n",
      "8\n",
      "[[8]]\n",
      "8\n",
      "3\n"
     ]
    }
   ],
   "source": [
    "#注意array中的小细节\n",
    "\n",
    "a=np.array([2,1])     #shape为（2，），是一维的\n",
    "b=np.array([[3],[2]])    #shape为（2，1），是二维的\n",
    "print(np.dot(a,b))      #仍然是数组      \n",
    "print(np.dot(a,b)[0])   #提取出真正的数\n",
    "\n",
    "c=a.reshape(1,2)\n",
    "print(np.dot(c,b))      #仍然是数组\n",
    "print(np.dot(c,b)[0,0])      #提取出真正的数\n",
    "\n",
    "print(b[0,0])\n",
    "\n",
    "import copy\n",
    "a=[1,2,3,4,5]\n",
    "a=np.array(a).reshape(5,1)\n",
    "w=a\n",
    "w=copy.deepcopy\n"
   ]
  },
  {
   "cell_type": "code",
   "execution_count": null,
   "metadata": {},
   "outputs": [],
   "source": [
    "i"
   ]
  }
 ],
 "metadata": {
  "kernelspec": {
   "display_name": "Python [conda env:py37] *",
   "language": "python",
   "name": "conda-env-py37-py"
  },
  "language_info": {
   "codemirror_mode": {
    "name": "ipython",
    "version": 3
   },
   "file_extension": ".py",
   "mimetype": "text/x-python",
   "name": "python",
   "nbconvert_exporter": "python",
   "pygments_lexer": "ipython3",
   "version": "3.6.7"
  }
 },
 "nbformat": 4,
 "nbformat_minor": 2
}
